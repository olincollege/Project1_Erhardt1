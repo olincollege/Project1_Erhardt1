{
 "cells": [
  {
   "cell_type": "code",
   "execution_count": 1,
   "metadata": {},
   "outputs": [],
   "source": [
    "%load_ext autoreload\n",
    "%autoreload 2\n",
    "\n",
    "# This tells Python to show the plots inside this notebook.\n",
    "%matplotlib inline\n",
    "# We have to import the plotting library into this Jupyter notebook\n",
    "# We only have to do this once (unless you close and open the notebook,\n",
    "# then you'll have to do it again)\n",
    "import matplotlib.pyplot as plt\n",
    "\n",
    "import pandas"
   ]
  },
  {
   "cell_type": "code",
   "execution_count": 38,
   "metadata": {},
   "outputs": [
    {
     "name": "stdout",
     "output_type": "stream",
     "text": [
      "<bound method NDFrame.head of                       Name    Year  Group   Status Birth Date  \\\n",
      "0          Joseph M. Acaba  2004.0   19.0   Active  5/17/1967   \n",
      "1           Loren W. Acton     NaN    NaN  Retired   3/7/1936   \n",
      "2         James C. Adamson  1984.0   10.0  Retired   3/3/1946   \n",
      "3          Thomas D. Akers  1987.0   12.0  Retired  5/20/1951   \n",
      "4              Buzz Aldrin  1963.0    3.0  Retired  1/20/1930   \n",
      "..                     ...     ...    ...      ...        ...   \n",
      "352          David A. Wolf  1990.0   13.0  Retired  8/23/1956   \n",
      "353  Neil W. Woodward III   1998.0   17.0  Retired  7/26/1962   \n",
      "354       Alfred M. Worden  1966.0    5.0  Retired   2/7/1932   \n",
      "355          John W. Young  1962.0    2.0  Retired  9/24/1930   \n",
      "356        George D. Zamka  1998.0   17.0  Retired  6/29/1962   \n",
      "\n",
      "           Birth Place Gender  \\\n",
      "0        Inglewood, CA   Male   \n",
      "1         Lewiston, MT   Male   \n",
      "2           Warsaw, NY   Male   \n",
      "3        St. Louis, MO   Male   \n",
      "4        Montclair, NJ   Male   \n",
      "..                 ...    ...   \n",
      "352   Indianapolis, IN   Male   \n",
      "353        Chicago, IL   Male   \n",
      "354        Jackson, MI   Male   \n",
      "355  San Francisco, CA   Male   \n",
      "356    Jersey City, NJ   Male   \n",
      "\n",
      "                                            Alma Mater  \\\n",
      "0    University of California-Santa Barbara; Univer...   \n",
      "1     Montana State University; University of Colorado   \n",
      "2            US Military Academy; Princeton University   \n",
      "3                         University of Missouri-Rolla   \n",
      "4                             US Military Academy; MIT   \n",
      "..                                                 ...   \n",
      "352              Purdue University; Indiana University   \n",
      "353  MIT; University of Texas-Austin; George Washin...   \n",
      "354        US Military Academy; University of Michigan   \n",
      "355                    Georgia Institute of Technology   \n",
      "356  US Naval Academy; Florida Institute of Technology   \n",
      "\n",
      "          Undergraduate Major                            Graduate Major  \\\n",
      "0                     Geology                                   Geology   \n",
      "1         Engineering Physics                             Solar Physics   \n",
      "2                 Engineering                     Aerospace Engineering   \n",
      "3         Applied Mathematics                       Applied Mathematics   \n",
      "4      Mechanical Engineering                              Astronautics   \n",
      "..                        ...                                       ...   \n",
      "352    Electrical Engineering                                  Medicine   \n",
      "353                   Physics              Physics; Business Management   \n",
      "354          Military Science  Aeronautical & Astronautical Engineering   \n",
      "355  Aeronautical Engineering                                       NaN   \n",
      "356               Mathematics                    Engineering Management   \n",
      "\n",
      "    Military Rank            Military Branch  Space Flights  \\\n",
      "0             NaN                        NaN              2   \n",
      "1             NaN                        NaN              1   \n",
      "2         Colonel          US Army (Retired)              2   \n",
      "3         Colonel     US Air Force (Retired)              4   \n",
      "4         Colonel     US Air Force (Retired)              2   \n",
      "..            ...                        ...            ...   \n",
      "352           NaN                        NaN              3   \n",
      "353     Commander                    US Navy              0   \n",
      "354       Colonel     US Air Force (Retired)              1   \n",
      "355       Captain          US Navy (Retired)              6   \n",
      "356       Colonel  US Marine Corps (Retired)              2   \n",
      "\n",
      "     Space Flight (hr)  Space Walks  Space Walks (hr)  \\\n",
      "0                 3307            2              13.0   \n",
      "1                  190            0               0.0   \n",
      "2                  334            0               0.0   \n",
      "3                  814            4              29.0   \n",
      "4                  289            2               8.0   \n",
      "..                 ...          ...               ...   \n",
      "352               4044            7              41.0   \n",
      "353                  0            0               0.0   \n",
      "354                295            1               0.5   \n",
      "355                835            3              20.0   \n",
      "356                692            0               0.0   \n",
      "\n",
      "                                              Missions Death Date  \\\n",
      "0               STS-119 (Discovery), ISS-31/32 (Soyuz)        NaN   \n",
      "1                                STS 51-F (Challenger)        NaN   \n",
      "2                 STS-28 (Columbia), STS-43 (Atlantis)        NaN   \n",
      "3    STS-41 (Discovery), STS-49 (Endeavor), STS-61 ...        NaN   \n",
      "4                                 Gemini 12, Apollo 11        NaN   \n",
      "..                                                 ...        ...   \n",
      "352  STS-58 (Columbia). STS-86/89 (Atlantis/Endeavo...        NaN   \n",
      "353                                                NaN        NaN   \n",
      "354                                          Apollo 15        NaN   \n",
      "355  Gemini 3, Gemini 10, Apollo 10, Apollo 16, STS...        NaN   \n",
      "356            STS-120 (Discovery), STS-130 (Endeavor)        NaN   \n",
      "\n",
      "    Death Mission  \n",
      "0             NaN  \n",
      "1             NaN  \n",
      "2             NaN  \n",
      "3             NaN  \n",
      "4             NaN  \n",
      "..            ...  \n",
      "352           NaN  \n",
      "353           NaN  \n",
      "354           NaN  \n",
      "355           NaN  \n",
      "356           NaN  \n",
      "\n",
      "[357 rows x 19 columns]>\n"
     ]
    }
   ],
   "source": [
    "nasa_astronaut_dataset = pandas.read_csv(\"astronauts.csv\")\n",
    "print (nasa_astronaut_dataset.head) #First 10 rows"
   ]
  },
  {
   "cell_type": "code",
   "execution_count": 4,
   "metadata": {},
   "outputs": [
    {
     "name": "stdout",
     "output_type": "stream",
     "text": [
      "Jeffrey N. Williams has the most flight hours with a total of 12818 hours.\n"
     ]
    }
   ],
   "source": [
    "row = nasa_astronaut_dataset[\"Space Flight (hr)\"].idxmax()\n",
    "astronaut = nasa_astronaut_dataset[\"Name\"][row]\n",
    "hours = nasa_astronaut_dataset[\"Space Flight (hr)\"][row]\n",
    "\n",
    "print(f\"{astronaut} has the most flight hours with a total of {hours} hours.\")\n"
   ]
  },
  {
   "cell_type": "code",
   "execution_count": 33,
   "metadata": {},
   "outputs": [
    {
     "name": "stdout",
     "output_type": "stream",
     "text": [
      "Gender\n",
      "Female     50\n",
      "Male      307\n",
      "Name: Name, dtype: int64\n"
     ]
    }
   ],
   "source": [
    "gender_occurrence = nasa_astronaut_dataset.groupby('Gender').count()\n",
    "gender_occurrence_name = gender_occurrence[\"Name\"]\n",
    "print (gender_occurrence_name)"
   ]
  },
  {
   "cell_type": "code",
   "execution_count": 42,
   "metadata": {},
   "outputs": [
    {
     "name": "stdout",
     "output_type": "stream",
     "text": [
      "['Female', 'Male']\n"
     ]
    }
   ],
   "source": [
    "#gender = nasa_astronaut_dataset[\"Gender\"]\n",
    "gender = [\"Female\", \"Male\"]\n",
    "count_row = nasa_astronaut_dataset.shape[0]\n",
    "print (gender)"
   ]
  },
  {
   "cell_type": "code",
   "execution_count": 43,
   "metadata": {},
   "outputs": [
    {
     "data": {
      "image/png": "[encoded data removed]",
      "text/plain": [
       "<Figure size 432x288 with 1 Axes>"
      ]
     },
     "metadata": {},
     "output_type": "display_data"
    }
   ],
   "source": [
    "plt.style.use(\"ggplot\")\n",
    "plt.bar(gender, gender_occurrence_name, color='red')\n",
    "plt.xlabel(\"Gender\")\n",
    "plt.ylabel(\"Number of Astronauts\")\n",
    "plt.title(\"Gender Distribution of Astronauts\")\n",
    "\n",
    "plt.show()"
   ]
  },
  {
   "cell_type": "code",
   "execution_count": null,
   "metadata": {},
   "outputs": [],
   "source": []
  }
 ],
 "metadata": {
  "kernelspec": {
   "display_name": "Python 3",
   "language": "python",
   "name": "python3"
  },
  "language_info": {
   "codemirror_mode": {
    "name": "ipython",
    "version": 3
   },
   "file_extension": ".py",
   "mimetype": "text/x-python",
   "name": "python",
   "nbconvert_exporter": "python",
   "pygments_lexer": "ipython3",
   "version": "3.8.5"
  }
 },
 "nbformat": 4,
 "nbformat_minor": 4
}
