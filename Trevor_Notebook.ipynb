{
 "cells": [
  {
   "cell_type": "code",
   "execution_count": 2,
   "metadata": {},
   "outputs": [],
   "source": [
    "%load_ext autoreload\n",
    "%autoreload 2"
   ]
  },
  {
   "cell_type": "code",
   "execution_count": 2,
   "metadata": {},
   "outputs": [],
   "source": [
    "# This tells Python to show the plots inside this notebook.\n",
    "%matplotlib inline\n",
    "# We have to import the plotting library into this Jupyter notebook\n",
    "# We only have to do this once (unless you close and open the notebook,\n",
    "# then you'll have to do it again)\n",
    "import matplotlib.pyplot as plt\n",
    "\n",
    "import pandas\n",
    "\n",
    "import requests\n",
    "\n",
    "import zipfile\n",
    "\n",
    "import wikipedia"
   ]
  },
  {
   "cell_type": "code",
   "execution_count": 31,
   "metadata": {},
   "outputs": [],
   "source": [
    "import kaggle"
   ]
  },
  {
   "cell_type": "code",
   "execution_count": 32,
   "metadata": {},
   "outputs": [],
   "source": [
    "from urllib.request import urlopen\n",
    "from tempfile import NamedTemporaryFile\n",
    "from shutil import unpack_archive\n",
    "zipurl = 'http://stash.compjour.org/data/1800ssa.zip'\n",
    "with urlopen(zipurl) as zipresp, NamedTemporaryFile() as tfile:\n",
    "    tfile.write(zipresp.read())\n",
    "    tfile.seek(0)\n",
    "    unpack_archive(tfile.name, '/tmp/mystuff3', format = 'zip')\n",
    "    "
   ]
  },
  {
   "cell_type": "code",
   "execution_count": 33,
   "metadata": {},
   "outputs": [],
   "source": [
    " from kaggle.api.kaggle_api_extended import KaggleApi\n",
    " api = KaggleApi()\n",
    " api.authenticate()\n",
    "    \n",
    "    "
   ]
  },
  {
   "cell_type": "code",
   "execution_count": 3,
   "metadata": {},
   "outputs": [],
   "source": [
    "response = requests.get(\"https://www.nationalgeographic.com/interactive-assets/nggraphics/ngscience-2010-astronaut-demographics/build-2020-11-06_15-54-08/ngm-assets/img/ngscience-2010-astronaut-demographics_nasa-group-21_ai2html-desktop-medium.jpg\")\n",
    "\n",
    "file = open(\"class21.png\", \"wb\")\n",
    "file.write(response.content)\n",
    "file.close()"
   ]
  },
  {
   "cell_type": "code",
   "execution_count": 12,
   "metadata": {},
   "outputs": [
    {
     "data": {
      "text/plain": [
       "'An astronaut (from the Greek \"astron\" (ἄστρον), meaning \"star\", and \"nautes\" (ναύτης), meaning \"sailor\") is a person trained, equipped, and deployed by a human spaceflight program to serve as a commander or crew member aboard a spacecraft. Although generally reserved for professional space travelers, the terms are sometimes applied to anyone who travels into space, including scientists, politicians, journalists and tourists.\"Astronaut\" technically applies to all human space travelers regardless of nationality or allegiance; however, astronauts fielded by Russia or the Soviet Union are typically known instead as cosmonauts (from the Russian \"kosmos\" (космос), meaning \"universe\", also borrowed from Greek) in order to distinguish them from American or otherwise NATO-oriented space travellers. Comparatively recent developments in manned spaceflight made by the People\\'s Republic of China and other East Asian nations have also led to the rise of the term taikonaut (from the Mandarin \"tàikōng\" (太空), meaning \"space\"), although its use is somewhat informal and its origin is unclear.\\nUntil 2002, astronauts were sponsored and trained exclusively by governments, either by the military or by civilian space agencies. With the suborbital flight of the privately funded SpaceShipOne in 2004, a new category of astronaut was created: the commercial astronaut.\\n\\n'"
      ]
     },
     "execution_count": 12,
     "metadata": {},
     "output_type": "execute_result"
    }
   ],
   "source": [
    "wikipedia.summary(\"NASA candidacy requirements\")"
   ]
  },
  {
   "cell_type": "code",
   "execution_count": 34,
   "metadata": {},
   "outputs": [],
   "source": [
    "api.dataset_download_files('nasa/astronaut-yearbook')"
   ]
  },
  {
   "cell_type": "code",
   "execution_count": 38,
   "metadata": {},
   "outputs": [],
   "source": [
    "import zipfile\n",
    "with zipfile.ZipFile(\"astronaut-yearbook.zip\", 'r') as zip_ref:\n",
    "    zip_ref.extractall()"
   ]
  },
  {
   "cell_type": "code",
   "execution_count": 6,
   "metadata": {},
   "outputs": [],
   "source": [
    "#group by dates\n",
    "nasa_astronaut_dataset = pandas.read_csv(\"astronauts.csv\")\n"
   ]
  },
  {
   "cell_type": "code",
   "execution_count": 29,
   "metadata": {},
   "outputs": [
    {
     "name": "stdout",
     "output_type": "stream",
     "text": [
      "<class 'pandas.core.frame.DataFrame'>\n",
      "<class 'pandas.core.frame.DataFrame'>\n"
     ]
    }
   ],
   "source": [
    "below80 = nasa_astronaut_dataset[nasa_astronaut_dataset.Year < 1980.0]\n",
    "\n",
    "print(type(below80))\n",
    "print(type(nasa_astronaut_dataset))"
   ]
  },
  {
   "cell_type": "code",
   "execution_count": 34,
   "metadata": {},
   "outputs": [
    {
     "name": "stdout",
     "output_type": "stream",
     "text": [
      "Gender\n",
      "Female     0\n",
      "Male      68\n",
      "Name: Military Rank, dtype: int64\n"
     ]
    }
   ],
   "source": [
    "gender_occurrence = below80.groupby('Gender').count()\n",
    "gender_military = gender_occurrence[\"Military Rank\"]\n",
    "gender_occurrence_name = gender_occurrence[\"Name\"]\n",
    "print (gender_military)\n",
    "#print (gender_occurrence)\n",
    "#print (gender_occurrence_name)\n"
   ]
  },
  {
   "cell_type": "code",
   "execution_count": 35,
   "metadata": {},
   "outputs": [
    {
     "name": "stdout",
     "output_type": "stream",
     "text": [
      "['Female', 'Male']\n"
     ]
    }
   ],
   "source": [
    "#gender = nasa_astronaut_dataset[\"Gender\"]\n",
    "gender = [\"Female\", \"Male\"]\n",
    "count_row = below80.shape[0]\n",
    "print (gender)"
   ]
  },
  {
   "cell_type": "code",
   "execution_count": 36,
   "metadata": {},
   "outputs": [
    {
     "data": {
      "image/png": "[encoded data removed]",
      "text/plain": [
       "<Figure size 432x288 with 1 Axes>"
      ]
     },
     "metadata": {},
     "output_type": "display_data"
    }
   ],
   "source": [
    "plt.style.use(\"ggplot\")\n",
    "plt.bar(gender, gender_occurrence_name, width=0.8, label='Civilian', color='silver')\n",
    "plt.bar(gender, gender_military, width = 0.8, label = 'Military', color = 'gold')\n",
    "plt.xlabel(\"Gender\")\n",
    "plt.ylabel(\"Number of Astronauts\")\n",
    "plt.title(\"Gender Distribution of Astronauts\")\n",
    "\n",
    "plt.legend(loc=\"upper left\")\n",
    "plt.show()"
   ]
  }
 ],
 "metadata": {
  "kernelspec": {
   "display_name": "Python 3",
   "language": "python",
   "name": "python3"
  },
  "language_info": {
   "codemirror_mode": {
    "name": "ipython",
    "version": 3
   },
   "file_extension": ".py",
   "mimetype": "text/x-python",
   "name": "python",
   "nbconvert_exporter": "python",
   "pygments_lexer": "ipython3",
   "version": "3.8.5"
  }
 },
 "nbformat": 4,
 "nbformat_minor": 4
}
