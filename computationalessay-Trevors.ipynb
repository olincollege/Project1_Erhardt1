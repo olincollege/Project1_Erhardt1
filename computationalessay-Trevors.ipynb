{
 "cells": [
  {
   "cell_type": "markdown",
   "metadata": {},
   "source": [
    "# The \"Right Stuff\"\n",
    "\n",
    "Author: **Makenzi Fischbach and Trevor Zou**\n",
    "\n",
    "Run the cell below each time the notebook is started or restarted to ensure that if you change any code in the library, this notebook will use the latest version of the library code.## Introduction"
   ]
  },
  {
   "cell_type": "code",
   "execution_count": 14,
   "metadata": {},
   "outputs": [
    {
     "name": "stdout",
     "output_type": "stream",
     "text": [
      "The autoreload extension is already loaded. To reload it, use:\n",
      "  %reload_ext autoreload\n"
     ]
    }
   ],
   "source": [
    "%load_ext autoreload\n",
    "%autoreload 2\n",
    "\n",
    "import functions as f\n",
    "import matplotlib.pyplot as plt"
   ]
  },
  {
   "cell_type": "markdown",
   "metadata": {},
   "source": [
    "## Introduction\n",
    "\n",
    "In the introduction, you should aim to tell the reader what your project is about. In doing so, you should answer the following questions:\n",
    "\n",
    "What is the question you are trying to answer or the story that you are trying you tell?\n",
    "Why is this question or story important?\n",
    "What were the main steps your project made towards answering the question or telling the story?\n",
    "\n",
    "We like astronauts anda compelling stories. We decided to look at astronauts through the years to know more about astronauts."
   ]
  },
  {
   "cell_type": "markdown",
   "metadata": {},
   "source": [
    "## Method\n",
    "\n",
    "In the methodology, you should explain how you obtained, processed, and summarized or visualized the data. In doing so, you should answer the following questions:\n",
    "\n",
    "Where did you get your data from?\n",
    "How did you get this data (i.e., did you programmatically download it or did you access it through an API)?\n",
    "How did you store and/or process this data (e.g., did you store and process it in Pandas)?\n",
    "What information did you get from this data that you used in the presentation of your results?\n",
    "\n",
    "### Getting the data\n",
    "First we looked around the internet for public data on astronauts throughout the years. We found a database on Kaggle that was published by the National Aeronautics and Space Administration as the \"Astronaut Fact Book\" in 2013. It had a lot of information about each astronauts Birthdat, Gender, Status, Educational Background, and flight information. Once we found the data we needed a way to programmatically collect it, so we used the Kaggle API, which can download datasets from Kaggle through Python. We installed the API, created an API token with our API credentials, and downloaded the zip fie containng the .csv file with our data. We then imported the zip module to unzip the data and store it locally. We also imported several different modules to help us interact with and visualize the data, such as matplotlib, pandas, itertools, numpy, and math."
   ]
  },
  {
   "cell_type": "code",
   "execution_count": 15,
   "metadata": {},
   "outputs": [
    {
     "data": {
      "text/html": [
       "<div>\n",
       "<style scoped>\n",
       "    .dataframe tbody tr th:only-of-type {\n",
       "        vertical-align: middle;\n",
       "    }\n",
       "\n",
       "    .dataframe tbody tr th {\n",
       "        vertical-align: top;\n",
       "    }\n",
       "\n",
       "    .dataframe thead th {\n",
       "        text-align: right;\n",
       "    }\n",
       "</style>\n",
       "<table border=\"1\" class=\"dataframe\">\n",
       "  <thead>\n",
       "    <tr style=\"text-align: right;\">\n",
       "      <th></th>\n",
       "      <th>Name</th>\n",
       "      <th>Year</th>\n",
       "      <th>Group</th>\n",
       "      <th>Status</th>\n",
       "      <th>Birth Date</th>\n",
       "      <th>Birth Place</th>\n",
       "      <th>Gender</th>\n",
       "      <th>Alma Mater</th>\n",
       "      <th>Undergraduate Major</th>\n",
       "      <th>Graduate Major</th>\n",
       "      <th>Military Rank</th>\n",
       "      <th>Military Branch</th>\n",
       "      <th>Space Flights</th>\n",
       "      <th>Space Flight (hr)</th>\n",
       "      <th>Space Walks</th>\n",
       "      <th>Space Walks (hr)</th>\n",
       "      <th>Missions</th>\n",
       "      <th>Death Date</th>\n",
       "      <th>Death Mission</th>\n",
       "      <th>State</th>\n",
       "    </tr>\n",
       "  </thead>\n",
       "  <tbody>\n",
       "    <tr>\n",
       "      <th>0</th>\n",
       "      <td>Joseph M. Acaba</td>\n",
       "      <td>2004.0</td>\n",
       "      <td>19.0</td>\n",
       "      <td>Active</td>\n",
       "      <td>5/17/1967</td>\n",
       "      <td>Inglewood, CA</td>\n",
       "      <td>Male</td>\n",
       "      <td>University of California-Santa Barbara; Univer...</td>\n",
       "      <td>Geology</td>\n",
       "      <td>Geology</td>\n",
       "      <td>NaN</td>\n",
       "      <td>NaN</td>\n",
       "      <td>2</td>\n",
       "      <td>3307</td>\n",
       "      <td>2</td>\n",
       "      <td>13.0</td>\n",
       "      <td>STS-119 (Discovery), ISS-31/32 (Soyuz)</td>\n",
       "      <td>NaN</td>\n",
       "      <td>NaN</td>\n",
       "      <td>CA</td>\n",
       "    </tr>\n",
       "    <tr>\n",
       "      <th>1</th>\n",
       "      <td>Loren W. Acton</td>\n",
       "      <td>NaN</td>\n",
       "      <td>NaN</td>\n",
       "      <td>Retired</td>\n",
       "      <td>3/7/1936</td>\n",
       "      <td>Lewiston, MT</td>\n",
       "      <td>Male</td>\n",
       "      <td>Montana State University; University of Colorado</td>\n",
       "      <td>Engineering Physics</td>\n",
       "      <td>Solar Physics</td>\n",
       "      <td>NaN</td>\n",
       "      <td>NaN</td>\n",
       "      <td>1</td>\n",
       "      <td>190</td>\n",
       "      <td>0</td>\n",
       "      <td>0.0</td>\n",
       "      <td>STS 51-F (Challenger)</td>\n",
       "      <td>NaN</td>\n",
       "      <td>NaN</td>\n",
       "      <td>MT</td>\n",
       "    </tr>\n",
       "    <tr>\n",
       "      <th>2</th>\n",
       "      <td>James C. Adamson</td>\n",
       "      <td>1984.0</td>\n",
       "      <td>10.0</td>\n",
       "      <td>Retired</td>\n",
       "      <td>3/3/1946</td>\n",
       "      <td>Warsaw, NY</td>\n",
       "      <td>Male</td>\n",
       "      <td>US Military Academy; Princeton University</td>\n",
       "      <td>Engineering</td>\n",
       "      <td>Aerospace Engineering</td>\n",
       "      <td>Colonel</td>\n",
       "      <td>US Army (Retired)</td>\n",
       "      <td>2</td>\n",
       "      <td>334</td>\n",
       "      <td>0</td>\n",
       "      <td>0.0</td>\n",
       "      <td>STS-28 (Columbia), STS-43 (Atlantis)</td>\n",
       "      <td>NaN</td>\n",
       "      <td>NaN</td>\n",
       "      <td>NY</td>\n",
       "    </tr>\n",
       "    <tr>\n",
       "      <th>3</th>\n",
       "      <td>Thomas D. Akers</td>\n",
       "      <td>1987.0</td>\n",
       "      <td>12.0</td>\n",
       "      <td>Retired</td>\n",
       "      <td>5/20/1951</td>\n",
       "      <td>St. Louis, MO</td>\n",
       "      <td>Male</td>\n",
       "      <td>University of Missouri-Rolla</td>\n",
       "      <td>Applied Mathematics</td>\n",
       "      <td>Applied Mathematics</td>\n",
       "      <td>Colonel</td>\n",
       "      <td>US Air Force (Retired)</td>\n",
       "      <td>4</td>\n",
       "      <td>814</td>\n",
       "      <td>4</td>\n",
       "      <td>29.0</td>\n",
       "      <td>STS-41 (Discovery), STS-49 (Endeavor), STS-61 ...</td>\n",
       "      <td>NaN</td>\n",
       "      <td>NaN</td>\n",
       "      <td>MO</td>\n",
       "    </tr>\n",
       "    <tr>\n",
       "      <th>4</th>\n",
       "      <td>Buzz Aldrin</td>\n",
       "      <td>1963.0</td>\n",
       "      <td>3.0</td>\n",
       "      <td>Retired</td>\n",
       "      <td>1/20/1930</td>\n",
       "      <td>Montclair, NJ</td>\n",
       "      <td>Male</td>\n",
       "      <td>US Military Academy; MIT</td>\n",
       "      <td>Mechanical Engineering</td>\n",
       "      <td>Astronautics</td>\n",
       "      <td>Colonel</td>\n",
       "      <td>US Air Force (Retired)</td>\n",
       "      <td>2</td>\n",
       "      <td>289</td>\n",
       "      <td>2</td>\n",
       "      <td>8.0</td>\n",
       "      <td>Gemini 12, Apollo 11</td>\n",
       "      <td>NaN</td>\n",
       "      <td>NaN</td>\n",
       "      <td>NJ</td>\n",
       "    </tr>\n",
       "  </tbody>\n",
       "</table>\n",
       "</div>"
      ],
      "text/plain": [
       "               Name    Year  Group   Status Birth Date    Birth Place Gender  \\\n",
       "0   Joseph M. Acaba  2004.0   19.0   Active  5/17/1967  Inglewood, CA   Male   \n",
       "1    Loren W. Acton     NaN    NaN  Retired   3/7/1936   Lewiston, MT   Male   \n",
       "2  James C. Adamson  1984.0   10.0  Retired   3/3/1946     Warsaw, NY   Male   \n",
       "3   Thomas D. Akers  1987.0   12.0  Retired  5/20/1951  St. Louis, MO   Male   \n",
       "4       Buzz Aldrin  1963.0    3.0  Retired  1/20/1930  Montclair, NJ   Male   \n",
       "\n",
       "                                          Alma Mater     Undergraduate Major  \\\n",
       "0  University of California-Santa Barbara; Univer...                 Geology   \n",
       "1   Montana State University; University of Colorado     Engineering Physics   \n",
       "2          US Military Academy; Princeton University             Engineering   \n",
       "3                       University of Missouri-Rolla     Applied Mathematics   \n",
       "4                           US Military Academy; MIT  Mechanical Engineering   \n",
       "\n",
       "          Graduate Major Military Rank         Military Branch  Space Flights  \\\n",
       "0                Geology           NaN                     NaN              2   \n",
       "1          Solar Physics           NaN                     NaN              1   \n",
       "2  Aerospace Engineering       Colonel       US Army (Retired)              2   \n",
       "3    Applied Mathematics       Colonel  US Air Force (Retired)              4   \n",
       "4           Astronautics       Colonel  US Air Force (Retired)              2   \n",
       "\n",
       "   Space Flight (hr)  Space Walks  Space Walks (hr)  \\\n",
       "0               3307            2              13.0   \n",
       "1                190            0               0.0   \n",
       "2                334            0               0.0   \n",
       "3                814            4              29.0   \n",
       "4                289            2               8.0   \n",
       "\n",
       "                                            Missions Death Date Death Mission  \\\n",
       "0             STS-119 (Discovery), ISS-31/32 (Soyuz)        NaN           NaN   \n",
       "1                              STS 51-F (Challenger)        NaN           NaN   \n",
       "2               STS-28 (Columbia), STS-43 (Atlantis)        NaN           NaN   \n",
       "3  STS-41 (Discovery), STS-49 (Endeavor), STS-61 ...        NaN           NaN   \n",
       "4                               Gemini 12, Apollo 11        NaN           NaN   \n",
       "\n",
       "  State  \n",
       "0    CA  \n",
       "1    MT  \n",
       "2    NY  \n",
       "3    MO  \n",
       "4    NJ  "
      ]
     },
     "execution_count": 15,
     "metadata": {},
     "output_type": "execute_result"
    }
   ],
   "source": [
    "nasa_astronaut_dataset = f.get_data()\n",
    "\n",
    "nasa_astronaut_dataset[\"State\"] = nasa_astronaut_dataset[\"Birth Place\"].str[-2:]\n",
    "\n",
    "nasa_astronaut_dataset.head()"
   ]
  },
  {
   "cell_type": "markdown",
   "metadata": {},
   "source": [
    "Here is the head of the csv. Note that are several cells with NaN. We looked into it and it seems like the people who were not part of an official nasa astronaut group, or were rather indiciduals selected byt eh research community, a company (ex. Lockheed Marten for Loren W. Acton) or non-NASA astronauts designated by international partners. This new rule change happened until 1965.\n",
    "\n",
    "Our first interaction with the data: we decided to change the birth date and add the age they space-ed. in order to get a better sense of how old these people were when they went into space."
   ]
  },
  {
   "cell_type": "code",
   "execution_count": 16,
   "metadata": {},
   "outputs": [
    {
     "data": {
      "text/html": [
       "<div>\n",
       "<style scoped>\n",
       "    .dataframe tbody tr th:only-of-type {\n",
       "        vertical-align: middle;\n",
       "    }\n",
       "\n",
       "    .dataframe tbody tr th {\n",
       "        vertical-align: top;\n",
       "    }\n",
       "\n",
       "    .dataframe thead th {\n",
       "        text-align: right;\n",
       "    }\n",
       "</style>\n",
       "<table border=\"1\" class=\"dataframe\">\n",
       "  <thead>\n",
       "    <tr style=\"text-align: right;\">\n",
       "      <th></th>\n",
       "      <th>Name</th>\n",
       "      <th>Year</th>\n",
       "      <th>Birth Date</th>\n",
       "      <th>Selection Age</th>\n",
       "    </tr>\n",
       "  </thead>\n",
       "  <tbody>\n",
       "    <tr>\n",
       "      <th>0</th>\n",
       "      <td>Joseph M. Acaba</td>\n",
       "      <td>2004.0</td>\n",
       "      <td>1967.0</td>\n",
       "      <td>37.0</td>\n",
       "    </tr>\n",
       "    <tr>\n",
       "      <th>1</th>\n",
       "      <td>Loren W. Acton</td>\n",
       "      <td>NaN</td>\n",
       "      <td>1936.0</td>\n",
       "      <td>NaN</td>\n",
       "    </tr>\n",
       "    <tr>\n",
       "      <th>2</th>\n",
       "      <td>James C. Adamson</td>\n",
       "      <td>1984.0</td>\n",
       "      <td>1946.0</td>\n",
       "      <td>38.0</td>\n",
       "    </tr>\n",
       "    <tr>\n",
       "      <th>3</th>\n",
       "      <td>Thomas D. Akers</td>\n",
       "      <td>1987.0</td>\n",
       "      <td>1951.0</td>\n",
       "      <td>36.0</td>\n",
       "    </tr>\n",
       "    <tr>\n",
       "      <th>4</th>\n",
       "      <td>Buzz Aldrin</td>\n",
       "      <td>1963.0</td>\n",
       "      <td>1930.0</td>\n",
       "      <td>33.0</td>\n",
       "    </tr>\n",
       "    <tr>\n",
       "      <th>...</th>\n",
       "      <td>...</td>\n",
       "      <td>...</td>\n",
       "      <td>...</td>\n",
       "      <td>...</td>\n",
       "    </tr>\n",
       "    <tr>\n",
       "      <th>352</th>\n",
       "      <td>David A. Wolf</td>\n",
       "      <td>1990.0</td>\n",
       "      <td>1956.0</td>\n",
       "      <td>34.0</td>\n",
       "    </tr>\n",
       "    <tr>\n",
       "      <th>353</th>\n",
       "      <td>Neil W. Woodward III</td>\n",
       "      <td>1998.0</td>\n",
       "      <td>1962.0</td>\n",
       "      <td>36.0</td>\n",
       "    </tr>\n",
       "    <tr>\n",
       "      <th>354</th>\n",
       "      <td>Alfred M. Worden</td>\n",
       "      <td>1966.0</td>\n",
       "      <td>1932.0</td>\n",
       "      <td>34.0</td>\n",
       "    </tr>\n",
       "    <tr>\n",
       "      <th>355</th>\n",
       "      <td>John W. Young</td>\n",
       "      <td>1962.0</td>\n",
       "      <td>1930.0</td>\n",
       "      <td>32.0</td>\n",
       "    </tr>\n",
       "    <tr>\n",
       "      <th>356</th>\n",
       "      <td>George D. Zamka</td>\n",
       "      <td>1998.0</td>\n",
       "      <td>1962.0</td>\n",
       "      <td>36.0</td>\n",
       "    </tr>\n",
       "  </tbody>\n",
       "</table>\n",
       "<p>357 rows × 4 columns</p>\n",
       "</div>"
      ],
      "text/plain": [
       "                      Name    Year  Birth Date  Selection Age\n",
       "0          Joseph M. Acaba  2004.0      1967.0           37.0\n",
       "1           Loren W. Acton     NaN      1936.0            NaN\n",
       "2         James C. Adamson  1984.0      1946.0           38.0\n",
       "3          Thomas D. Akers  1987.0      1951.0           36.0\n",
       "4              Buzz Aldrin  1963.0      1930.0           33.0\n",
       "..                     ...     ...         ...            ...\n",
       "352          David A. Wolf  1990.0      1956.0           34.0\n",
       "353  Neil W. Woodward III   1998.0      1962.0           36.0\n",
       "354       Alfred M. Worden  1966.0      1932.0           34.0\n",
       "355          John W. Young  1962.0      1930.0           32.0\n",
       "356        George D. Zamka  1998.0      1962.0           36.0\n",
       "\n",
       "[357 rows x 4 columns]"
      ]
     },
     "execution_count": 16,
     "metadata": {},
     "output_type": "execute_result"
    }
   ],
   "source": [
    "nasa_astronaut_dataset = f.change_dates(nasa_astronaut_dataset)\n",
    "\n",
    "nasa_astronaut_dataset[[\"Name\", \"Year\", \"Birth Date\", \"Selection Age\"]]"
   ]
  },
  {
   "cell_type": "markdown",
   "metadata": {},
   "source": [
    "Once we had that, we started to look at some general trends and cool facts across all of the astronauts, regardless of time.\n",
    "\n",
    "We first wanted to look at the most noteable feats among astronuats:\n"
   ]
  },
  {
   "cell_type": "code",
   "execution_count": 17,
   "metadata": {},
   "outputs": [
    {
     "name": "stdout",
     "output_type": "stream",
     "text": [
      "Jeffrey N. Williams has the most Space Flight (hr) with a total of 12818 hours.\n",
      "Michael E. Lopez-Alegria has the most Space Walks (hr) with a total of 67.0 hours.\n"
     ]
    }
   ],
   "source": [
    "print(f.highest(nasa_astronaut_dataset, \"Space Flight (hr)\"))\n",
    "print(f.highest(nasa_astronaut_dataset, \"Space Walks (hr)\"))"
   ]
  },
  {
   "cell_type": "code",
   "execution_count": 18,
   "metadata": {},
   "outputs": [
    {
     "data": {
      "image/png": "[encoded data removed]",
      "text/plain": [
       "<Figure size 432x288 with 1 Axes>"
      ]
     },
     "metadata": {},
     "output_type": "display_data"
    }
   ],
   "source": [
    "f.most_common_state(nasa_astronaut_dataset)"
   ]
  },
  {
   "cell_type": "markdown",
   "metadata": {},
   "source": [
    "We also looked whhere astronauts came from, with the most popular states being New York and California."
   ]
  },
  {
   "cell_type": "markdown",
   "metadata": {},
   "source": [
    "We also wanted to look at what colleges astronauts came from as far as education back. They came from alot of different colleges, so we decided to show the top 10."
   ]
  },
  {
   "cell_type": "code",
   "execution_count": 19,
   "metadata": {},
   "outputs": [
    {
     "data": {
      "text/plain": [
       "{'US Naval Academy': 52,\n",
       " 'US Air Force Academy': 38,\n",
       " 'MIT': 36,\n",
       " 'US Naval Postgraduate School': 32,\n",
       " 'Purdue University': 23,\n",
       " 'Stanford University': 22,\n",
       " 'US Military Academy': 18,\n",
       " 'University of Colorado': 16,\n",
       " 'Georgia Institute of Technology': 14,\n",
       " 'University of Texas': 13,\n",
       " 'University of Washington': 11,\n",
       " 'California Institute of Technology': 11,\n",
       " 'University of Southern California': 10,\n",
       " 'Cornell University': 9,\n",
       " 'University of California-Berkeley': 8,\n",
       " 'University of Houston': 8,\n",
       " 'Harvard University': 7,\n",
       " 'George Washington University': 7,\n",
       " 'Rice University': 7,\n",
       " 'University of Virginia': 7,\n",
       " 'University of Michigan': 7,\n",
       " 'University of Arizona': 6,\n",
       " 'Air Force Institute of Technology': 6,\n",
       " 'University of Tennessee': 6,\n",
       " 'University of Houston-Clear Lake': 6,\n",
       " 'Columbia University': 6,\n",
       " 'University of California-Los Angeles': 6,\n",
       " 'Auburn University': 6,\n",
       " 'US Air Force Institute of Technology': 6,\n",
       " 'Princeton University': 5,\n",
       " 'University of Florida': 5,\n",
       " 'University of Illinois': 5,\n",
       " 'University of Maryland': 5,\n",
       " 'Embry-Riddle Aeronautical University': 5,\n",
       " 'Colorado State University': 5,\n",
       " 'Pennsylvania State University': 4,\n",
       " 'University of West Florida': 4,\n",
       " 'Troy State University': 4,\n",
       " 'University of Oklahoma': 4,\n",
       " 'University of California-Santa Barbara': 3,\n",
       " 'Drexel University': 3,\n",
       " 'University of Tennessee-Knoxville': 3,\n",
       " 'Rutgers University': 3,\n",
       " 'Ohio State University': 3,\n",
       " 'University of Kansas': 3,\n",
       " 'University of Notre Dame': 3,\n",
       " 'Texas A&M University': 3,\n",
       " 'University of Missouri': 3,\n",
       " 'Texas Tech University': 3,\n",
       " 'Florida Institute of Technology': 3,\n",
       " 'Rensselaer Polytechnic Institute': 3,\n",
       " 'University of Missouri-Rolla': 2,\n",
       " 'Yale University': 2,\n",
       " 'Northwestern University': 2,\n",
       " 'Lehigh University': 2,\n",
       " 'Georgetown University': 2,\n",
       " 'University of Wisconsin': 2,\n",
       " 'US Coast Guard Academy': 2,\n",
       " 'University of Central Florida': 2,\n",
       " 'University of California-Davis': 2,\n",
       " 'Virginia Polytechnic Institute': 2,\n",
       " 'California Polytechnic State University': 2,\n",
       " 'University of Connecticut': 2,\n",
       " 'University of Sydney': 2,\n",
       " 'University of Texas-Arlington': 2,\n",
       " 'Syracuse University': 2,\n",
       " 'California State University': 2,\n",
       " 'University of Utah': 2,\n",
       " 'University of Pennsylvania': 2,\n",
       " 'University of Rochester': 2,\n",
       " 'Johns Hopkins University': 2,\n",
       " 'Golden Gate University': 2,\n",
       " 'Amherst College': 2,\n",
       " 'Northeastern University': 2,\n",
       " 'US Merchant Marine Academy': 2,\n",
       " 'University of Minnesota': 2,\n",
       " 'University of Texas Medical Branch-Galveston': 2,\n",
       " 'University of North Carolina': 2,\n",
       " 'University of New Hampshire': 2,\n",
       " 'Harvey Mudd College': 2,\n",
       " 'University of California-San Diego': 2,\n",
       " 'California State University-Fresno': 2,\n",
       " 'West Florida University': 2,\n",
       " 'Carnegie-Mellon University': 2,\n",
       " 'Oregon State University': 2,\n",
       " 'US Naval War College': 2,\n",
       " 'Florida State University': 2,\n",
       " 'Montana State University': 1,\n",
       " 'Villanova University': 1,\n",
       " 'DePauw University': 1,\n",
       " 'Hastings College': 1,\n",
       " 'Iowa State University': 1,\n",
       " 'Creighton University': 1,\n",
       " 'University of Illinois-Urbana': 1,\n",
       " 'Frostburg State University': 1,\n",
       " 'University of Idaho': 1,\n",
       " 'Thomas Jefferson University': 1,\n",
       " 'State University of New York-Buffalo': 1,\n",
       " 'Wright State University': 1,\n",
       " 'University of Miami': 1,\n",
       " 'Texas Technological College': 1,\n",
       " 'Washington University': 1,\n",
       " 'Old Dominion University': 1,\n",
       " 'University of North Carolina at Chapel Hill': 1,\n",
       " 'Duke University': 1,\n",
       " 'University of California Los Angeles': 1,\n",
       " 'The Citadel': 1,\n",
       " 'College of William & Mary': 1,\n",
       " 'Eastern Virginia Medical School': 1,\n",
       " 'San Francisco State University': 1,\n",
       " 'California State University-Fullerton': 1,\n",
       " 'Polytechnic Institute of Brooklyn': 1,\n",
       " 'Michigan State University': 1,\n",
       " 'University of Minnesota-Minneapolis': 1,\n",
       " 'Emory University': 1,\n",
       " 'Punjab Engineering College': 1,\n",
       " 'University of Wisconsin-Madison': 1,\n",
       " 'Utah State University': 1,\n",
       " 'University of Massachusetts': 1,\n",
       " 'Webster University': 1,\n",
       " 'Loyola College': 1,\n",
       " 'Tennessee Polytechnic Institute': 1,\n",
       " 'University of Alabama-Huntsville': 1,\n",
       " 'University of Alabama at Birmingham': 1,\n",
       " 'LeMoyne College': 1,\n",
       " 'Washington State University': 1,\n",
       " 'Queen’s University-Canada': 1,\n",
       " 'Cambridge University': 1,\n",
       " 'University of New Mexico': 1,\n",
       " 'State University of New York': 1,\n",
       " 'Vanderbilt University': 1,\n",
       " 'California Polytechnic Institute': 1,\n",
       " 'Muskingum College': 1,\n",
       " 'Southeast Missouri State': 1,\n",
       " 'University of Vermont': 1,\n",
       " 'University of Chicago': 1,\n",
       " 'Webster College': 1,\n",
       " 'Tufts University': 1,\n",
       " 'University of California': 1,\n",
       " 'University of the Pacific': 1,\n",
       " 'Northwest Nazarene College': 1,\n",
       " 'Southern Illinois University-Carbondale': 1,\n",
       " 'Florida State Institute of Technology': 1,\n",
       " 'Southern Methodist University': 1,\n",
       " 'Baylor University': 1,\n",
       " 'California State University-Northridge': 1,\n",
       " 'Tarleton State University': 1,\n",
       " 'Texas Woman’s University': 1,\n",
       " 'Tulane University': 1,\n",
       " 'State University of New York at Buffalo': 1,\n",
       " 'Missouri Southern State College': 1,\n",
       " 'University of Alabama': 1,\n",
       " 'State University of New York Maritime College': 1,\n",
       " 'College of the Holy Cross': 1,\n",
       " 'Embry-Riddle University': 1,\n",
       " 'US Army War College': 1,\n",
       " 'Brown University': 1,\n",
       " 'University of California-Berkley': 1,\n",
       " 'Wayne State University': 1,\n",
       " 'University College at Cardiff': 1,\n",
       " 'Washington & Lee University': 1,\n",
       " 'Davidson College': 1,\n",
       " 'Wake Forest University': 1,\n",
       " 'Framingham State College': 1,\n",
       " 'Bowie State College': 1,\n",
       " 'North Carolina A&T State College': 1,\n",
       " 'Wellesley College': 1,\n",
       " 'University of Richmond': 1,\n",
       " 'Whitman College': 1,\n",
       " 'University of Alabama-Birmingham': 1,\n",
       " 'New York University': 1,\n",
       " 'Marietta College': 1,\n",
       " 'University of Kentucky': 1,\n",
       " 'Dartmouth College': 1,\n",
       " 'University of North Dakota': 1,\n",
       " 'Williams College': 1,\n",
       " 'San Diego State University': 1,\n",
       " 'University of Texas-El Paso': 1,\n",
       " 'Baldwin Wallace College': 1,\n",
       " 'Youngstown State University': 1,\n",
       " 'University of Cambridge': 1,\n",
       " 'University of North Texas': 1,\n",
       " 'Oklahoma Baptist University': 1,\n",
       " 'Oklahoma State University': 1,\n",
       " 'University of Texas-Dallas': 1,\n",
       " 'Indiana University of Pennsylvania': 1,\n",
       " 'Medical College of Pennsylvania': 1,\n",
       " 'City College of New York': 1,\n",
       " 'University of Edinburgh': 1,\n",
       " 'Leeds University': 1,\n",
       " 'University of Southern Mississippi': 1,\n",
       " 'University of California-Santa Cruz': 1,\n",
       " 'Dalhousie University': 1,\n",
       " 'Florida Atlantic University': 1,\n",
       " 'University of Hartford': 1,\n",
       " 'University of Adelaide': 1,\n",
       " 'Case Western Reserve University': 1,\n",
       " 'Southeastern Massachusetts University': 1,\n",
       " 'Delft University of Technology': 1,\n",
       " 'University of Delaware': 1,\n",
       " 'Saint John’s University': 1,\n",
       " 'Kent State University': 1,\n",
       " 'John Carroll University': 1,\n",
       " 'University of California at Los Angeles': 1,\n",
       " 'Iowa Wesleyan College': 1,\n",
       " 'Western Kentucky University': 1,\n",
       " 'Tennessee Technological University': 1,\n",
       " 'Indiana University': 1,\n",
       " 'University of Texas-Austin': 1}"
      ]
     },
     "execution_count": 19,
     "metadata": {},
     "output_type": "execute_result"
    }
   ],
   "source": [
    "new = f.frequency(nasa_astronaut_dataset, 7)\n",
    "f.tops(new,1000)"
   ]
  },
  {
   "cell_type": "markdown",
   "metadata": {},
   "source": [
    "Alot of people came from the army, as well as MIT! WOW!\n",
    "\n",
    "We could do the same thing with undergraduate major."
   ]
  },
  {
   "cell_type": "code",
   "execution_count": 20,
   "metadata": {},
   "outputs": [
    {
     "data": {
      "text/plain": [
       "{'Physics': 36,\n",
       " 'Aerospace Engineering': 33,\n",
       " 'Mechanical Engineering': 31,\n",
       " 'Aeronautical Engineering': 29,\n",
       " 'Electrical Engineering': 24,\n",
       " 'Engineering Science': 13,\n",
       " 'Engineering': 12,\n",
       " 'Mathematics': 12,\n",
       " 'Chemistry': 12,\n",
       " 'Chemical Engineering': 9}"
      ]
     },
     "execution_count": 20,
     "metadata": {},
     "output_type": "execute_result"
    }
   ],
   "source": [
    "new = f.frequency(nasa_astronaut_dataset,8)\n",
    "\n",
    "f.tops(new, 10)"
   ]
  },
  {
   "cell_type": "code",
   "execution_count": 21,
   "metadata": {},
   "outputs": [
    {
     "name": "stdout",
     "output_type": "stream",
     "text": [
      "36.144578313253014 %of Astronauts majored in some kind of Engineering\n"
     ]
    }
   ],
   "source": [
    "f.engineer(nasa_astronaut_dataset)"
   ]
  },
  {
   "cell_type": "markdown",
   "metadata": {},
   "source": [
    "We see that alot of people majored in phsyics! WOW! And that alot of people majored in engineering!\n",
    "\n",
    "We also wanted to look at how many people went to grad school."
   ]
  },
  {
   "cell_type": "code",
   "execution_count": 22,
   "metadata": {},
   "outputs": [
    {
     "data": {
      "image/png": "[encoded data removed]",
      "text/plain": [
       "<Figure size 432x288 with 1 Axes>"
      ]
     },
     "metadata": {},
     "output_type": "display_data"
    },
    {
     "data": {
      "image/png": "[encoded data removed]",
      "text/plain": [
       "<Figure size 432x288 with 1 Axes>"
      ]
     },
     "metadata": {},
     "output_type": "display_data"
    }
   ],
   "source": [
    "f.first_v_last(nasa_astronaut_dataset)"
   ]
  },
  {
   "cell_type": "code",
   "execution_count": 23,
   "metadata": {},
   "outputs": [
    {
     "data": {
      "image/png": "[encoded data removed]",
      "text/plain": [
       "<Figure size 432x288 with 1 Axes>"
      ]
     },
     "metadata": {},
     "output_type": "display_data"
    }
   ],
   "source": [
    "f.plot_astronauts_vs_time(nasa_astronaut_dataset)"
   ]
  },
  {
   "cell_type": "code",
   "execution_count": 24,
   "metadata": {},
   "outputs": [
    {
     "data": {
      "image/png": "[encoded data removed]",
      "text/plain": [
       "<Figure size 432x288 with 4 Axes>"
      ]
     },
     "metadata": {},
     "output_type": "display_data"
    }
   ],
   "source": [
    "f.grad_school_over_time(nasa_astronaut_dataset)"
   ]
  },
  {
   "cell_type": "markdown",
   "metadata": {},
   "source": [
    "We see that the educational side of astronauts goes higher over time, maybe having to do with \n",
    "\n",
    "This then lead us to think about how astronauts have changed over time\n",
    "We then wanted to look first at how the number of astronauts has changed over time."
   ]
  },
  {
   "cell_type": "markdown",
   "metadata": {},
   "source": [
    "Interesting. Probably has to do with politics or some shit! Interesting feature is the jump in astronaut numbers and lull from 1969 to 1979"
   ]
  },
  {
   "cell_type": "code",
   "execution_count": 45,
   "metadata": {},
   "outputs": [
    {
     "data": {
      "text/plain": [
       "34.53333333333333"
      ]
     },
     "execution_count": 45,
     "metadata": {},
     "output_type": "execute_result"
    }
   ],
   "source": [
    "(nasa_astronaut_dataset[\"Selection Age\"]).mean()\n"
   ]
  },
  {
   "cell_type": "code",
   "execution_count": 55,
   "metadata": {},
   "outputs": [
    {
     "data": {
      "image/png": "[encoded data removed]",
      "text/plain": [
       "<Figure size 432x288 with 1 Axes>"
      ]
     },
     "metadata": {},
     "output_type": "display_data"
    }
   ],
   "source": [
    "f.average_age_vs_group(nasa_astronaut_dataset)"
   ]
  },
  {
   "cell_type": "markdown",
   "metadata": {},
   "source": [
    "Interestgly, the average age has a slight dip where apollo missions took place and they were desperate for young pilots."
   ]
  },
  {
   "cell_type": "code",
   "execution_count": 56,
   "metadata": {},
   "outputs": [
    {
     "name": "stdout",
     "output_type": "stream",
     "text": [
      "{'STS 51-L (Challenger)': 7, 'STS-107 (Columbia)': 6, 'Apollo 1': 3}\n",
      "{'1/28/1986': 7, '2/1/2003': 6, '1/27/1967': 3, '2/28/1966': 2}\n"
     ]
    }
   ],
   "source": [
    "deaths = f.frequency(nasa_astronaut_dataset, 18)\n",
    "print(f.tops(deaths,3))\n",
    "\n",
    "death_dates = f.frequency(nasa_astronaut_dataset, 17)\n",
    "print(f.tops(death_dates,4))"
   ]
  },
  {
   "cell_type": "markdown",
   "metadata": {},
   "source": [
    "The frequency of death date allows us to see which missions went wrong, and these corresponded to the apollo 1, challenger, columbia, and a project gemini jet crash. But, when we look at death dates, there is one more that pops up, and that is the project gemini crash"
   ]
  },
  {
   "cell_type": "markdown",
   "metadata": {},
   "source": [
    "## Results\n",
    "\n",
    "In the results, you should show the main summaries or visualizations of your data, along with any accompanying information. In doing so, you should answer the following questions:\n",
    "\n",
    "What summaries or visualizations did you create?\n",
    "What are the interesting and/or important parts of these summaries or visualizations?\n",
    "How do these results answer your questions or tell your story?"
   ]
  },
  {
   "cell_type": "markdown",
   "metadata": {},
   "source": [
    "## Conclusion\n",
    "\n",
    "In the conclusion, you should provide key takeaways for the reader. In doing so, you should answer the following questions, where applicable:\n",
    "\n",
    "What are the important insights that the reader should get from this project?\n",
    "What are the contextual or ethical implications of your topic or work?\n",
    "What lessons did you learn as you did the project?\n",
    "What were the most difficult, challenging, or frustrating parts of the project?\n",
    "In what ways would you extend or change your project if you had more time?"
   ]
  }
 ],
 "metadata": {
  "kernelspec": {
   "display_name": "Python 3",
   "language": "python",
   "name": "python3"
  },
  "language_info": {
   "codemirror_mode": {
    "name": "ipython",
    "version": 3
   },
   "file_extension": ".py",
   "mimetype": "text/x-python",
   "name": "python",
   "nbconvert_exporter": "python",
   "pygments_lexer": "ipython3",
   "version": "3.8.5"
  }
 },
 "nbformat": 4,
 "nbformat_minor": 4
}
