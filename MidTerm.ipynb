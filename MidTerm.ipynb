{
 "cells": [
  {
   "cell_type": "markdown",
   "metadata": {},
   "source": [
    "# SoftDes Midterm Yay"
   ]
  },
  {
   "cell_type": "code",
   "execution_count": 1,
   "metadata": {},
   "outputs": [],
   "source": [
    "import pandas"
   ]
  },
  {
   "cell_type": "code",
   "execution_count": 8,
   "metadata": {},
   "outputs": [
    {
     "name": "stdout",
     "output_type": "stream",
     "text": [
      "                  Name    Year  Group   Status  Birth Date  \\\n",
      "0      Joseph M. Acaba  2004.0   19.0   Active   5/17/1967   \n",
      "1       Loren W. Acton     NaN    NaN  Retired    3/7/1936   \n",
      "2     James C. Adamson  1984.0   10.0  Retired    3/3/1946   \n",
      "3      Thomas D. Akers  1987.0   12.0  Retired   5/20/1951   \n",
      "4          Buzz Aldrin  1963.0    3.0  Retired   1/20/1930   \n",
      "5      Andrew M. Allen  1987.0   12.0  Retired    8/4/1955   \n",
      "6      Joseph P. Allen  1967.0    6.0  Retired   6/27/1937   \n",
      "7      Scott D. Altman  1995.0   15.0  Retired   8/15/1959   \n",
      "8    William A. Anders  1963.0    3.0  Retired  10/17/1933   \n",
      "9  Clayton C. Anderson  1998.0   17.0  Retired   2/23/1959   \n",
      "\n",
      "           Birth Place Gender  \\\n",
      "0        Inglewood, CA   Male   \n",
      "1         Lewiston, MT   Male   \n",
      "2           Warsaw, NY   Male   \n",
      "3        St. Louis, MO   Male   \n",
      "4        Montclair, NJ   Male   \n",
      "5     Philadelphia, PA   Male   \n",
      "6  Crawsfordsville, IN   Male   \n",
      "7          Lincoln, IL   Male   \n",
      "8            Hong Kong   Male   \n",
      "9            Omaha, NE   Male   \n",
      "\n",
      "                                          Alma Mater  \\\n",
      "0  University of California-Santa Barbara; Univer...   \n",
      "1   Montana State University; University of Colorado   \n",
      "2          US Military Academy; Princeton University   \n",
      "3                       University of Missouri-Rolla   \n",
      "4                           US Military Academy; MIT   \n",
      "5        Villanova University; University of Florida   \n",
      "6                 DePauw University; Yale University   \n",
      "7  University of Illinois; US Naval Postgraduate ...   \n",
      "8  US Naval Academy; Air Force Institute of Techn...   \n",
      "9            Hastings College; Iowa State University   \n",
      "\n",
      "                        Undergraduate Major            Graduate Major  \\\n",
      "0                                   Geology                   Geology   \n",
      "1                       Engineering Physics             Solar Physics   \n",
      "2                               Engineering     Aerospace Engineering   \n",
      "3                       Applied Mathematics       Applied Mathematics   \n",
      "4                    Mechanical Engineering              Astronautics   \n",
      "5                    Mechanical Engineering   Business Administration   \n",
      "6                     Mathematics & Physics                   Physics   \n",
      "7  Aeronautical & Astronautical Engineering  Aeronautical Engineering   \n",
      "8                       Nuclear Engineering       Nuclear Engineering   \n",
      "9                                   Physics     Aerospace Engineering   \n",
      "\n",
      "        Military Rank                  Military Branch  Space Flights  \\\n",
      "0                 NaN                              NaN              2   \n",
      "1                 NaN                              NaN              1   \n",
      "2             Colonel                US Army (Retired)              2   \n",
      "3             Colonel           US Air Force (Retired)              4   \n",
      "4             Colonel           US Air Force (Retired)              2   \n",
      "5  Lieutenant Colonel        US Marine Corps (Retired)              3   \n",
      "6                 NaN                              NaN              2   \n",
      "7             Captain                US Navy (Retired)              4   \n",
      "8       Major General  US Air Force Reserves (Retired)              1   \n",
      "9                 NaN                              NaN              2   \n",
      "\n",
      "   Space Flight (hr)  Space Walks  Space Walks (hr)  \\\n",
      "0               3307            2              13.0   \n",
      "1                190            0               0.0   \n",
      "2                334            0               0.0   \n",
      "3                814            4              29.0   \n",
      "4                289            2               8.0   \n",
      "5                906            0               0.0   \n",
      "6                313            2              12.0   \n",
      "7               1236            0               0.0   \n",
      "8                147            0               0.0   \n",
      "9               4005            6              38.0   \n",
      "\n",
      "                                            Missions Death Date Death Mission  \n",
      "0             STS-119 (Discovery), ISS-31/32 (Soyuz)        NaN           NaN  \n",
      "1                              STS 51-F (Challenger)        NaN           NaN  \n",
      "2               STS-28 (Columbia), STS-43 (Atlantis)        NaN           NaN  \n",
      "3  STS-41 (Discovery), STS-49 (Endeavor), STS-61 ...        NaN           NaN  \n",
      "4                               Gemini 12, Apollo 11        NaN           NaN  \n",
      "5  STS-46 (Atlantis), STS-62 (Columbia), STS-75 (...        NaN           NaN  \n",
      "6              ST-5 (Columbia), STS 51-A (Discovery)        NaN           NaN  \n",
      "7  STS-90 (Columbia), STS-106 (Atlantis), STS-109...        NaN           NaN  \n",
      "8                                           Apollo 8        NaN           NaN  \n",
      "9  STS-117/120 (Atlantis/Discovery), STS-131 (Dis...        NaN           NaN  \n"
     ]
    }
   ],
   "source": [
    "nasa_astronaut_dataset = pandas.read_csv(\"NASA_astronauts.csv\")\n",
    "print (nasa_astronaut_dataset.head(10)) #First 10 rows "
   ]
  },
  {
   "cell_type": "code",
<<<<<<< HEAD
   "execution_count": 3,
=======
   "execution_count": 16,
>>>>>>> 0edfa8847afe330c9924235d089a824c6691c010
   "metadata": {},
   "outputs": [
    {
     "name": "stdout",
     "output_type": "stream",
     "text": [
<<<<<<< HEAD
      "The autoreload extension is already loaded. To reload it, use:\n",
      "  %reload_ext autoreload\n"
=======
      "Jeffrey N. Williams has the most flight hours with a total of 12818 hours.\n"
>>>>>>> 0edfa8847afe330c9924235d089a824c6691c010
     ]
    }
   ],
   "source": [
<<<<<<< HEAD
    "%load_ext autoreload\n",
    "%autoreload 2\n"
=======
    "#Example: finding astronaut with most flight hours \n",
    "row = nasa_astronaut_dataset[\"Space Flight (hr)\"].idxmax()\n",
    "astronaut = nasa_astronaut_dataset[\"Name\"][row]\n",
    "hours = nasa_astronaut_dataset[\"Space Flight (hr)\"][row]\n",
    "\n",
    "print(f\"{astronaut} has the most flight hours with a total of {hours} hours.\")"
   ]
  },
  {
   "cell_type": "code",
   "execution_count": 9,
   "metadata": {},
   "outputs": [
    {
     "name": "stdout",
     "output_type": "stream",
     "text": [
      "   ID  Number  Nationwide number                     Name  \\\n",
      "0   1     1.0                1.0            Gagarin, Yuri   \n",
      "1   2     2.0                2.0           Titov, Gherman   \n",
      "2   3     3.0                1.0      Glenn, John H., Jr.   \n",
      "3   4     3.0                1.0      Glenn, John H., Jr.   \n",
      "4   5     4.0                2.0      Carpenter, M. Scott   \n",
      "5   6     5.0                2.0      Nikolayev, Andriyan   \n",
      "6   7     5.0                2.0      Nikolayev, Andriyan   \n",
      "7   8     6.0                4.0          Popovich, Pavel   \n",
      "8   9     6.0                4.0          Popovich, Pavel   \n",
      "9  10     7.0                3.0  Schirra, Walter M., Jr.   \n",
      "\n",
      "                  Original name Sex  Year of birth     Nationality  \\\n",
      "0       ГАГАРИН Юрий Алексеевич   M         1934.0  U.S.S.R/Russia   \n",
      "1       ТИТОВ Герман Степанович   M         1935.0  U.S.S.R/Russia   \n",
      "2           Glenn, John H., Jr.   M         1921.0            U.S.   \n",
      "3           Glenn, John H., Jr.   M         1921.0            U.S.   \n",
      "4           Carpenter, M. Scott   M         1925.0            U.S.   \n",
      "5  НИКОЛАЕВ Андриян Григорьевич   M         1929.0  U.S.S.R/Russia   \n",
      "6  НИКОЛАЕВ Андриян Григорьевич   M         1929.0  U.S.S.R/Russia   \n",
      "7       ПОПОВИЧ Павел Романович   M         1930.0  U.S.S.R/Russia   \n",
      "8       ПОПОВИЧ Павел Романович   M         1930.0  U.S.S.R/Russia   \n",
      "9       Schirra, Walter M., Jr.   M         1923.0            U.S.   \n",
      "\n",
      "  Military/Civilian               Selection  ...  Year of mission  \\\n",
      "0               Mil                  TsPK-1  ...           1961.0   \n",
      "1               Mil                  TsPK-1  ...           1961.0   \n",
      "2               Mil  NASA Astronaut Group 1  ...           1962.0   \n",
      "3               Mil  NASA Astronaut Group 2  ...           1998.0   \n",
      "4               Mil                 NASA- 1  ...           1962.0   \n",
      "5               Mil                  TsPK-1  ...           1962.0   \n",
      "6               Mil                  TsPK-2  ...           1970.0   \n",
      "7               Mil                  TsPK-1  ...           1962.0   \n",
      "8               Mil                  TsPK-2  ...           1974.0   \n",
      "9               Mil       1959 NASA group 1  ...           1962.0   \n",
      "\n",
      "     Mission title   Ascend shuttle         In orbit  Descend shuttle  \\\n",
      "0         Vostok 1         Vostok 1         Vostok 2         Vostok 3   \n",
      "1         Vostok 2         Vostok 2         Vostok 2         Vostok 2   \n",
      "2             MA-6             MA-6             MA-6             MA-6   \n",
      "3           STS-95           STS-95           STS-95           STS-95   \n",
      "4  Mercury-Atlas 7  Mercury-Atlas 7  Mercury-Atlas 7  Mercury-Atlas 7   \n",
      "5         Vostok 3         Vostok 3         Vostok 3         Vostok 3   \n",
      "6          Soyuz 9          Soyuz 9          Soyuz 9          Soyuz 9   \n",
      "7         Vostok 4         Vostok 4         Vostok 4         Vostok 4   \n",
      "8         Soyuz 14         Soyuz 14         Soyuz 14         Soyuz 14   \n",
      "9  Mercury-Atlas 8  Mercury-Atlas 8  Mercury-Atlas 8  Mercury-Atlas 8   \n",
      "\n",
      "  Hours/mission Total hrs (sum) Field21 EVA hrs/mission  Total EVA hrs  \n",
      "0          1.77            1.77     0.0             0.0            0.0  \n",
      "1         25.00           25.30     0.0             0.0            0.0  \n",
      "2          5.00          218.00     0.0             0.0            0.0  \n",
      "3        213.00          218.00     0.0             0.0            0.0  \n",
      "4          5.00            5.00     0.0             0.0            0.0  \n",
      "5         94.00          519.33     0.0             0.0            0.0  \n",
      "6        424.00          519.33     0.0             0.0            0.0  \n",
      "7         70.93          448.45     0.0             0.0            0.0  \n",
      "8        377.00          448.45     0.0             0.0            0.0  \n",
      "9          9.22          295.20     0.0             0.0            0.0  \n",
      "\n",
      "[10 rows x 24 columns]\n"
     ]
    }
   ],
   "source": [
    "all_astronaut_dataset = pandas.read_csv(\"all_astronauts.csv\")\n",
    "print (all_astronaut_dataset.head(10)) #First 10 rows"
>>>>>>> 0edfa8847afe330c9924235d089a824c6691c010
   ]
  },
  {
   "cell_type": "code",
   "execution_count": 7,
   "metadata": {},
   "outputs": [
    {
     "name": "stdout",
     "output_type": "stream",
     "text": [
      "               Name    Year  Group   Status Birth Date    Birth Place Gender  \\\n",
      "0   Joseph M. Acaba  2004.0   19.0   Active  5/17/1967  Inglewood, CA   Male   \n",
      "1    Loren W. Acton     NaN    NaN  Retired   3/7/1936   Lewiston, MT   Male   \n",
      "2  James C. Adamson  1984.0   10.0  Retired   3/3/1946     Warsaw, NY   Male   \n",
      "3   Thomas D. Akers  1987.0   12.0  Retired  5/20/1951  St. Louis, MO   Male   \n",
      "4       Buzz Aldrin  1963.0    3.0  Retired  1/20/1930  Montclair, NJ   Male   \n",
      "\n",
      "                                          Alma Mater     Undergraduate Major  \\\n",
      "0  University of California-Santa Barbara; Univer...                 Geology   \n",
      "1   Montana State University; University of Colorado     Engineering Physics   \n",
      "2          US Military Academy; Princeton University             Engineering   \n",
      "3                       University of Missouri-Rolla     Applied Mathematics   \n",
      "4                           US Military Academy; MIT  Mechanical Engineering   \n",
      "\n",
      "          Graduate Major Military Rank         Military Branch  Space Flights  \\\n",
      "0                Geology           NaN                     NaN              2   \n",
      "1          Solar Physics           NaN                     NaN              1   \n",
      "2  Aerospace Engineering       Colonel       US Army (Retired)              2   \n",
      "3    Applied Mathematics       Colonel  US Air Force (Retired)              4   \n",
      "4           Astronautics       Colonel  US Air Force (Retired)              2   \n",
      "\n",
      "   Space Flight (hr)  Space Walks  Space Walks (hr)  \\\n",
      "0               3307            2              13.0   \n",
      "1                190            0               0.0   \n",
      "2                334            0               0.0   \n",
      "3                814            4              29.0   \n",
      "4                289            2               8.0   \n",
      "\n",
      "                                            Missions Death Date Death Mission  \n",
      "0             STS-119 (Discovery), ISS-31/32 (Soyuz)        NaN           NaN  \n",
      "1                              STS 51-F (Challenger)        NaN           NaN  \n",
      "2               STS-28 (Columbia), STS-43 (Atlantis)        NaN           NaN  \n",
      "3  STS-41 (Discovery), STS-49 (Endeavor), STS-61 ...        NaN           NaN  \n",
      "4                               Gemini 12, Apollo 11        NaN           NaN  \n"
     ]
    }
   ],
   "source": [
    "import googlesearch\n",
    "import matplotlib.pyplot as plt\n",
    "# We have to import the Pandas library\n",
    "import pandas\n",
    "# Pandas uses something called dataframes. I can read in the data into a dataframe like this:\n",
    "astronauts_dataframe=pandas.read_csv('astronauts.csv')\n",
    "# Let's check that the dataframe did what we wanted it to. This command prints the first five\n",
    "# rows of the data. How does it compare to the file open in your text editor?\n",
    "print(astronauts_dataframe.head(5))\n"
   ]
  },
  {
   "cell_type": "code",
   "execution_count": 12,
   "metadata": {},
   "outputs": [
    {
     "name": "stdout",
     "output_type": "stream",
     "text": [
      "https://en.wikipedia.org/wiki/Thomas_Akers\n",
      "https://en.wikipedia.org/wiki/Thomas_Akers#Education\n",
      "https://en.wikipedia.org/wiki/Thomas_Akers#NASA_career\n",
      "https://en.wikipedia.org/wiki/Thomas_Akers#Special_Honors\n",
      "https://www.nasa.gov/sites/default/files/atoms/files/akers_thomas.pdf\n",
      "https://science.ksc.nasa.gov/persons/astronauts/a-to-d/AkersTD.txt\n",
      "https://www.imdb.com/name/nm3745533/bio\n",
      "https://www.upi.com/Archives/1990/10/05/Air-Force-Maj-Thomas-D-Akers-39-Discovery-astronaut/5416655099200/\n",
      "https://academickids.com/encyclopedia/index.php/Thomas_D._Akers\n",
      "https://www.nationalgeographic.com/science/graphics/charting-how-nasa-astronaut-demographics-have-changed-over-time\n",
      "https://influence.mst.edu/2011/thomasakers/\n",
      "http://kjls.org/Space-Shuttles/463625-12X12-PHOTO-STS49-Endeavour-MS-Kathryn/\n",
      "https://www.augustineinstitute.org/team_mf/benjamin-d-akers-s-t-d/\n",
      "https://www.space.com/12063-space-shuttle-missions-1989-1994.html\n",
      "https://www.ancestry.com/genealogy/records/thomas-dakers-24-88nlw\n",
      "https://contactanycelebrity.com/trial/do/celebrityView?name=Thomas-D-Colonel--Akers&id=76398\n",
      "https://www.ncbi.nlm.nih.gov/pmc/articles/PMC2967429/\n",
      "https://www.cbssports.com/nfl/news/sean-mcvay-gives-injury-updates-on-cam-akers-and-malcolm-brown-praises-darrell-hendersons-week-2-performance/\n",
      "https://www.britannica.com/biography/Ronald-L-Akers\n",
      "https://obits.pennlive.com/obituaries/pennlive/obituary.aspx?n=d-richard-akers&pid=15588136\n",
      "http://www.clarkprosecutor.org/html/death/US/akers698.htm\n",
      "https://www.skyatnightmagazine.com/space-missions/what-was-wrong-with-hubble-mirror-how-was-it-fixed/\n",
      "https://profiles.ucdenver.edu/display/13713382\n",
      "https://www.chop.edu/doctors/akers-aletha-y\n",
      "https://www.linkedin.com/in/iandakers\n",
      "https://www.springfieldclinic.com/find-a-provider/provider/physician/akers-jessica/id/1051\n",
      "https://www.marquette.edu/business/accounting/documents/accounting-mag-2018.pdf\n",
      "https://www.irsc.edu/faculty-staff/directory.html\n",
      "https://www.ucl.ac.uk/lbs/person/view/2146649811\n",
      "https://www.sec.gov/Archives/edgar/data/1321834/000114420413043672/v351669_ex10-2.htm\n",
      "http://space.nss.org/space-shuttle-flight-79-sts-79-post-flight-presentation-video/\n",
      "https://www.govinfo.gov/content/pkg/GOVPUB-CS1-2a993d5488da44f6e3c3129ab7cac9d3/pdf/GOVPUB-CS1-2a993d5488da44f6e3c3129ab7cac9d3.pdf\n",
      "https://www.waco-texas.com/pdf/court/warrant-listing.pdf\n",
      "https://www.lcps.org/domain/22630\n",
      "http://www.lycoming.edu/umarch/east_baltimore_confrence.htm\n",
      "https://www.williamsthomasfuneralhome.com/obituaries/James-Pence-3/\n",
      "http://www.co.champaign.il.us/sheriff/inmatelookup.php\n",
      "https://www.routledge.com/Social-Learning-Theories-of-Crime/Winfree-Akers-Sellers/p/book/9780754629672\n",
      "https://www.ebay.com/itm/Godfrey-Talbot-Wynford-Vaughn-Thomas-ROYALTY-ANNUAL-Andrew-Dakers-1953-/312559158003\n",
      "https://casetext.com/case/state-v-akers-29\n",
      "https://law.justia.com/cases/tennessee/supreme-court/2012/e2009-02203-sc-r11-cv.html\n",
      "https://molloylions.com/sports/baseball/roster/ryan-akers/120\n",
      "https://theahl.com/stats/player/1919\n",
      "https://www.supercluster.com/astronauts/thomas-d.-akers\n",
      "http://www.akersbio.com/investor-center/news/2016/11-28-2016-120033981\n",
      "https://www.pdclarion.com/obituaries/maxine-lee-akers/article_0aa95979-60fb-5265-ae89-f5bf92ae3161.html\n",
      "http://itdevis.it/akers-ellis.html\n",
      "https://www.wyomingnews.com/news/local_news/district-court-roundup-man-sentenced-to-prison-for-soliciting-sex-act-from-minor/article_ae0c9272-5ce8-5adb-87f5-7e7cfa793c13.html\n",
      "http://luyo.dfviaggi.it/gaithers-death.html\n",
      "https://www.reformer.com/religion/local-teens-take-center-zoom-stage-during-holy-week/article_713a4168-8b1e-11eb-ac02-4b7fd6ac945a.html\n",
      "https://steelersdepot.com/2021/03/2021-nfl-draft-player-profiles-georgia-te-tre-mckitty/\n",
      "http://ffmi.forkwear.it/david-w-hartman-md.html\n",
      "http://pathfinderfoundation.org/chihuahua-sn60-santeria/ephrata-obituary.html\n",
      "http://andrearossisindaco.it/tangipahoa-parish-warrants-list-2020.html\n",
      "http://ytrn.apef-fr.it/how-old-is-tad-james.html\n",
      "http://ezfa.lrsito.it/lagrange-ga-county-assessor.html\n",
      "https://ecbjz.studiodilorenzoantonio.it/peterson-kanai.html\n",
      "http://luigidallai.it/king-funeral-home.html\n",
      "http://francescooriolo.it/david-vance-prints.html\n",
      "https://www.hardrockhotel.com/sports/boxing/oscar-de-la-hoya-to-fight-again-this-summer-2315842/\n",
      "http://nlsy.paolafontana.it/bryan-andrew.html\n",
      "http://pdcastelmaggiore.it/robert-hunter-ash-obituary-tomball-tx.html\n",
      "http://ljan.istreviso.it/attendee-list-pdf.html\n",
      "https://www.frederickhealth.org/find-a-provider/janet-dakers-bidle-c-r-n-p-/\n",
      "http://stradadellabiodiversita.it/mullins-family.html\n",
      "https://spikn.longhinlab.it/henderson-newspaper.html\n",
      "https://www.wikidata.org/wiki/Q539337\n",
      "https://tsvy.unieuropiacentini.it/ralph-matthew-pennisi.html\n",
      "https://kfbs.polliecontorni.it/famous-child-psychopaths.html\n",
      "http://uskr.shopideecasa.it/mike-bullock-obituary.html\n",
      "http://cimatricibussi.it/2020-nfl-draft-wr-rankings.html\n",
      "https://kgiu.prontointerventofabbro-roma.it/ray-funeral-home.html\n",
      "http://simj.it/karen-dickey-lindell.html\n",
      "http://www.spacefacts.de/bios/astronauts/english/akers_thomas.htm\n",
      "https://www.lamiadelriccio.com/firefox-find-sfbxdxd/space-shuttle-nomi-b8c2e1\n",
      "https://live-event.co.za/filterl/index.php?keyword=EVA-Spacewalks-12X12-PHOTO-STS49-Endeavour-463625\n"
     ]
    }
   ],
   "source": [
    "for result in googlesearch.search(query=\"Thomas D. Akers Physical Description\"):\n",
    "    print(result)"
   ]
  }
 ],
 "metadata": {
  "kernelspec": {
   "display_name": "Python 3",
   "language": "python",
   "name": "python3"
  },
  "language_info": {
   "codemirror_mode": {
    "name": "ipython",
    "version": 3
   },
   "file_extension": ".py",
   "mimetype": "text/x-python",
   "name": "python",
   "nbconvert_exporter": "python",
   "pygments_lexer": "ipython3",
   "version": "3.8.5"
  }
 },
 "nbformat": 4,
 "nbformat_minor": 4
}
