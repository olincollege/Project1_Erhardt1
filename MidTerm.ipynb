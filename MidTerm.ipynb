{
 "cells": [
  {
   "cell_type": "markdown",
   "metadata": {},
   "source": [
    "# SoftDes Midterm Yay"
   ]
  },
  {
   "cell_type": "code",
   "execution_count": 1,
   "metadata": {},
   "outputs": [],
   "source": [
    "import pandas"
   ]
  },
  {
   "cell_type": "code",
   "execution_count": 8,
   "metadata": {},
   "outputs": [
    {
     "name": "stdout",
     "output_type": "stream",
     "text": [
      "                  Name    Year  Group   Status  Birth Date  \\\n",
      "0      Joseph M. Acaba  2004.0   19.0   Active   5/17/1967   \n",
      "1       Loren W. Acton     NaN    NaN  Retired    3/7/1936   \n",
      "2     James C. Adamson  1984.0   10.0  Retired    3/3/1946   \n",
      "3      Thomas D. Akers  1987.0   12.0  Retired   5/20/1951   \n",
      "4          Buzz Aldrin  1963.0    3.0  Retired   1/20/1930   \n",
      "5      Andrew M. Allen  1987.0   12.0  Retired    8/4/1955   \n",
      "6      Joseph P. Allen  1967.0    6.0  Retired   6/27/1937   \n",
      "7      Scott D. Altman  1995.0   15.0  Retired   8/15/1959   \n",
      "8    William A. Anders  1963.0    3.0  Retired  10/17/1933   \n",
      "9  Clayton C. Anderson  1998.0   17.0  Retired   2/23/1959   \n",
      "\n",
      "           Birth Place Gender  \\\n",
      "0        Inglewood, CA   Male   \n",
      "1         Lewiston, MT   Male   \n",
      "2           Warsaw, NY   Male   \n",
      "3        St. Louis, MO   Male   \n",
      "4        Montclair, NJ   Male   \n",
      "5     Philadelphia, PA   Male   \n",
      "6  Crawsfordsville, IN   Male   \n",
      "7          Lincoln, IL   Male   \n",
      "8            Hong Kong   Male   \n",
      "9            Omaha, NE   Male   \n",
      "\n",
      "                                          Alma Mater  \\\n",
      "0  University of California-Santa Barbara; Univer...   \n",
      "1   Montana State University; University of Colorado   \n",
      "2          US Military Academy; Princeton University   \n",
      "3                       University of Missouri-Rolla   \n",
      "4                           US Military Academy; MIT   \n",
      "5        Villanova University; University of Florida   \n",
      "6                 DePauw University; Yale University   \n",
      "7  University of Illinois; US Naval Postgraduate ...   \n",
      "8  US Naval Academy; Air Force Institute of Techn...   \n",
      "9            Hastings College; Iowa State University   \n",
      "\n",
      "                        Undergraduate Major            Graduate Major  \\\n",
      "0                                   Geology                   Geology   \n",
      "1                       Engineering Physics             Solar Physics   \n",
      "2                               Engineering     Aerospace Engineering   \n",
      "3                       Applied Mathematics       Applied Mathematics   \n",
      "4                    Mechanical Engineering              Astronautics   \n",
      "5                    Mechanical Engineering   Business Administration   \n",
      "6                     Mathematics & Physics                   Physics   \n",
      "7  Aeronautical & Astronautical Engineering  Aeronautical Engineering   \n",
      "8                       Nuclear Engineering       Nuclear Engineering   \n",
      "9                                   Physics     Aerospace Engineering   \n",
      "\n",
      "        Military Rank                  Military Branch  Space Flights  \\\n",
      "0                 NaN                              NaN              2   \n",
      "1                 NaN                              NaN              1   \n",
      "2             Colonel                US Army (Retired)              2   \n",
      "3             Colonel           US Air Force (Retired)              4   \n",
      "4             Colonel           US Air Force (Retired)              2   \n",
      "5  Lieutenant Colonel        US Marine Corps (Retired)              3   \n",
      "6                 NaN                              NaN              2   \n",
      "7             Captain                US Navy (Retired)              4   \n",
      "8       Major General  US Air Force Reserves (Retired)              1   \n",
      "9                 NaN                              NaN              2   \n",
      "\n",
      "   Space Flight (hr)  Space Walks  Space Walks (hr)  \\\n",
      "0               3307            2              13.0   \n",
      "1                190            0               0.0   \n",
      "2                334            0               0.0   \n",
      "3                814            4              29.0   \n",
      "4                289            2               8.0   \n",
      "5                906            0               0.0   \n",
      "6                313            2              12.0   \n",
      "7               1236            0               0.0   \n",
      "8                147            0               0.0   \n",
      "9               4005            6              38.0   \n",
      "\n",
      "                                            Missions Death Date Death Mission  \n",
      "0             STS-119 (Discovery), ISS-31/32 (Soyuz)        NaN           NaN  \n",
      "1                              STS 51-F (Challenger)        NaN           NaN  \n",
      "2               STS-28 (Columbia), STS-43 (Atlantis)        NaN           NaN  \n",
      "3  STS-41 (Discovery), STS-49 (Endeavor), STS-61 ...        NaN           NaN  \n",
      "4                               Gemini 12, Apollo 11        NaN           NaN  \n",
      "5  STS-46 (Atlantis), STS-62 (Columbia), STS-75 (...        NaN           NaN  \n",
      "6              ST-5 (Columbia), STS 51-A (Discovery)        NaN           NaN  \n",
      "7  STS-90 (Columbia), STS-106 (Atlantis), STS-109...        NaN           NaN  \n",
      "8                                           Apollo 8        NaN           NaN  \n",
      "9  STS-117/120 (Atlantis/Discovery), STS-131 (Dis...        NaN           NaN  \n"
     ]
    }
   ],
   "source": [
    "nasa_astronaut_dataset = pandas.read_csv(\"NASA_astronauts.csv\")\n",
    "print (nasa_astronaut_dataset.head(10)) #First 10 rows "
   ]
  },
  {
   "cell_type": "code",
   "execution_count": 16,
   "metadata": {},
   "outputs": [
    {
     "name": "stdout",
     "output_type": "stream",
     "text": [
      "Jeffrey N. Williams has the most flight hours with a total of 12818 hours.\n"
     ]
    }
   ],
   "source": [
    "#Example: finding astronaut with most flight hours \n",
    "row = nasa_astronaut_dataset[\"Space Flight (hr)\"].idxmax()\n",
    "astronaut = nasa_astronaut_dataset[\"Name\"][row]\n",
    "hours = nasa_astronaut_dataset[\"Space Flight (hr)\"][row]\n",
    "\n",
    "print(f\"{astronaut} has the most flight hours with a total of {hours} hours.\")"
   ]
  },
  {
   "cell_type": "code",
   "execution_count": 9,
   "metadata": {},
   "outputs": [
    {
     "name": "stdout",
     "output_type": "stream",
     "text": [
      "   ID  Number  Nationwide number                     Name  \\\n",
      "0   1     1.0                1.0            Gagarin, Yuri   \n",
      "1   2     2.0                2.0           Titov, Gherman   \n",
      "2   3     3.0                1.0      Glenn, John H., Jr.   \n",
      "3   4     3.0                1.0      Glenn, John H., Jr.   \n",
      "4   5     4.0                2.0      Carpenter, M. Scott   \n",
      "5   6     5.0                2.0      Nikolayev, Andriyan   \n",
      "6   7     5.0                2.0      Nikolayev, Andriyan   \n",
      "7   8     6.0                4.0          Popovich, Pavel   \n",
      "8   9     6.0                4.0          Popovich, Pavel   \n",
      "9  10     7.0                3.0  Schirra, Walter M., Jr.   \n",
      "\n",
      "                  Original name Sex  Year of birth     Nationality  \\\n",
      "0       ГАГАРИН Юрий Алексеевич   M         1934.0  U.S.S.R/Russia   \n",
      "1       ТИТОВ Герман Степанович   M         1935.0  U.S.S.R/Russia   \n",
      "2           Glenn, John H., Jr.   M         1921.0            U.S.   \n",
      "3           Glenn, John H., Jr.   M         1921.0            U.S.   \n",
      "4           Carpenter, M. Scott   M         1925.0            U.S.   \n",
      "5  НИКОЛАЕВ Андриян Григорьевич   M         1929.0  U.S.S.R/Russia   \n",
      "6  НИКОЛАЕВ Андриян Григорьевич   M         1929.0  U.S.S.R/Russia   \n",
      "7       ПОПОВИЧ Павел Романович   M         1930.0  U.S.S.R/Russia   \n",
      "8       ПОПОВИЧ Павел Романович   M         1930.0  U.S.S.R/Russia   \n",
      "9       Schirra, Walter M., Jr.   M         1923.0            U.S.   \n",
      "\n",
      "  Military/Civilian               Selection  ...  Year of mission  \\\n",
      "0               Mil                  TsPK-1  ...           1961.0   \n",
      "1               Mil                  TsPK-1  ...           1961.0   \n",
      "2               Mil  NASA Astronaut Group 1  ...           1962.0   \n",
      "3               Mil  NASA Astronaut Group 2  ...           1998.0   \n",
      "4               Mil                 NASA- 1  ...           1962.0   \n",
      "5               Mil                  TsPK-1  ...           1962.0   \n",
      "6               Mil                  TsPK-2  ...           1970.0   \n",
      "7               Mil                  TsPK-1  ...           1962.0   \n",
      "8               Mil                  TsPK-2  ...           1974.0   \n",
      "9               Mil       1959 NASA group 1  ...           1962.0   \n",
      "\n",
      "     Mission title   Ascend shuttle         In orbit  Descend shuttle  \\\n",
      "0         Vostok 1         Vostok 1         Vostok 2         Vostok 3   \n",
      "1         Vostok 2         Vostok 2         Vostok 2         Vostok 2   \n",
      "2             MA-6             MA-6             MA-6             MA-6   \n",
      "3           STS-95           STS-95           STS-95           STS-95   \n",
      "4  Mercury-Atlas 7  Mercury-Atlas 7  Mercury-Atlas 7  Mercury-Atlas 7   \n",
      "5         Vostok 3         Vostok 3         Vostok 3         Vostok 3   \n",
      "6          Soyuz 9          Soyuz 9          Soyuz 9          Soyuz 9   \n",
      "7         Vostok 4         Vostok 4         Vostok 4         Vostok 4   \n",
      "8         Soyuz 14         Soyuz 14         Soyuz 14         Soyuz 14   \n",
      "9  Mercury-Atlas 8  Mercury-Atlas 8  Mercury-Atlas 8  Mercury-Atlas 8   \n",
      "\n",
      "  Hours/mission Total hrs (sum) Field21 EVA hrs/mission  Total EVA hrs  \n",
      "0          1.77            1.77     0.0             0.0            0.0  \n",
      "1         25.00           25.30     0.0             0.0            0.0  \n",
      "2          5.00          218.00     0.0             0.0            0.0  \n",
      "3        213.00          218.00     0.0             0.0            0.0  \n",
      "4          5.00            5.00     0.0             0.0            0.0  \n",
      "5         94.00          519.33     0.0             0.0            0.0  \n",
      "6        424.00          519.33     0.0             0.0            0.0  \n",
      "7         70.93          448.45     0.0             0.0            0.0  \n",
      "8        377.00          448.45     0.0             0.0            0.0  \n",
      "9          9.22          295.20     0.0             0.0            0.0  \n",
      "\n",
      "[10 rows x 24 columns]\n"
     ]
    }
   ],
   "source": [
    "all_astronaut_dataset = pandas.read_csv(\"all_astronauts.csv\")\n",
    "print (all_astronaut_dataset.head(10)) #First 10 rows"
   ]
  },
  {
   "cell_type": "code",
   "execution_count": null,
   "metadata": {},
   "outputs": [],
   "source": []
  }
 ],
 "metadata": {
  "kernelspec": {
   "display_name": "Python 3",
   "language": "python",
   "name": "python3"
  },
  "language_info": {
   "codemirror_mode": {
    "name": "ipython",
    "version": 3
   },
   "file_extension": ".py",
   "mimetype": "text/x-python",
   "name": "python",
   "nbconvert_exporter": "python",
   "pygments_lexer": "ipython3",
   "version": "3.8.5"
  }
 },
 "nbformat": 4,
 "nbformat_minor": 4
}
